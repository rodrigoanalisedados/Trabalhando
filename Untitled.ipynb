{
 "cells": [
  {
   "cell_type": "code",
   "execution_count": 37,
   "id": "c0e40744",
   "metadata": {},
   "outputs": [],
   "source": [
    "# https://pypi.org/project/efficient-apriori/\n",
    "!pip install -q efficient_apriori"
   ]
  },
  {
   "cell_type": "code",
   "execution_count": 2,
   "id": "f6723809",
   "metadata": {},
   "outputs": [],
   "source": [
    "# Imports\n",
    "import numpy as np\n",
    "import pandas as pd\n",
    "import matplotlib.pyplot as plt\n",
    "from datetime import datetime\n",
    "from itertools import combinations\n",
    "import efficient_apriori\n",
    "from efficient_apriori import apriori"
   ]
  },
  {
   "cell_type": "code",
   "execution_count": 3,
   "id": "c2f14865",
   "metadata": {},
   "outputs": [
    {
     "name": "stdout",
     "output_type": "stream",
     "text": [
      "Author: Data Science Academy\n",
      "\n",
      "matplotlib       : 3.5.1\n",
      "efficient_apriori: 2.0.1\n",
      "numpy            : 1.21.5\n",
      "pandas           : 1.2.4\n",
      "\n"
     ]
    }
   ],
   "source": [
    "# Versões dos pacotes usados neste jupyter notebook\n",
    "%reload_ext watermark\n",
    "%watermark -a \"Data Science Academy\" --iversions"
   ]
  },
  {
   "cell_type": "code",
   "execution_count": 4,
   "id": "0d97b828",
   "metadata": {},
   "outputs": [],
   "source": [
    "# Carrega os dados\n",
    "\n",
    "pdvitem = pd.read_csv('dados/pdvitem.csv')\n"
   ]
  },
  {
   "cell_type": "code",
   "execution_count": 6,
   "id": "0d5ff425",
   "metadata": {},
   "outputs": [
    {
     "data": {
      "text/plain": [
       "(474530, 9)"
      ]
     },
     "execution_count": 6,
     "metadata": {},
     "output_type": "execute_result"
    }
   ],
   "source": [
    "pdvitem.shape"
   ]
  },
  {
   "cell_type": "code",
   "execution_count": 7,
   "id": "f18820a1",
   "metadata": {},
   "outputs": [
    {
     "data": {
      "text/html": [
       "<div>\n",
       "<style scoped>\n",
       "    .dataframe tbody tr th:only-of-type {\n",
       "        vertical-align: middle;\n",
       "    }\n",
       "\n",
       "    .dataframe tbody tr th {\n",
       "        vertical-align: top;\n",
       "    }\n",
       "\n",
       "    .dataframe thead th {\n",
       "        text-align: right;\n",
       "    }\n",
       "</style>\n",
       "<table border=\"1\" class=\"dataframe\">\n",
       "  <thead>\n",
       "    <tr style=\"text-align: right;\">\n",
       "      <th></th>\n",
       "      <th>pdvcodigo</th>\n",
       "      <th>empcodigo</th>\n",
       "      <th>procodigo</th>\n",
       "      <th>venqtde</th>\n",
       "      <th>venvlrunit</th>\n",
       "      <th>venvlrtotal</th>\n",
       "      <th>venvlrreal</th>\n",
       "      <th>venvlrnota</th>\n",
       "      <th>vendatainclusao</th>\n",
       "    </tr>\n",
       "  </thead>\n",
       "  <tbody>\n",
       "    <tr>\n",
       "      <th>0</th>\n",
       "      <td>33680299</td>\n",
       "      <td>3</td>\n",
       "      <td>39392</td>\n",
       "      <td>1.0</td>\n",
       "      <td>19.9</td>\n",
       "      <td>19.9</td>\n",
       "      <td>19.9</td>\n",
       "      <td>19.9</td>\n",
       "      <td>2021-07-01</td>\n",
       "    </tr>\n",
       "    <tr>\n",
       "      <th>1</th>\n",
       "      <td>33680312</td>\n",
       "      <td>3</td>\n",
       "      <td>16180</td>\n",
       "      <td>1.0</td>\n",
       "      <td>27.9</td>\n",
       "      <td>27.9</td>\n",
       "      <td>27.9</td>\n",
       "      <td>27.9</td>\n",
       "      <td>2021-07-01</td>\n",
       "    </tr>\n",
       "    <tr>\n",
       "      <th>2</th>\n",
       "      <td>33680316</td>\n",
       "      <td>3</td>\n",
       "      <td>27799</td>\n",
       "      <td>1.0</td>\n",
       "      <td>26.9</td>\n",
       "      <td>26.9</td>\n",
       "      <td>26.9</td>\n",
       "      <td>26.9</td>\n",
       "      <td>2021-07-01</td>\n",
       "    </tr>\n",
       "    <tr>\n",
       "      <th>3</th>\n",
       "      <td>33680301</td>\n",
       "      <td>3</td>\n",
       "      <td>12417</td>\n",
       "      <td>1.0</td>\n",
       "      <td>21.9</td>\n",
       "      <td>21.9</td>\n",
       "      <td>21.9</td>\n",
       "      <td>21.9</td>\n",
       "      <td>2021-07-01</td>\n",
       "    </tr>\n",
       "    <tr>\n",
       "      <th>4</th>\n",
       "      <td>33680404</td>\n",
       "      <td>3</td>\n",
       "      <td>42488</td>\n",
       "      <td>1.0</td>\n",
       "      <td>21.9</td>\n",
       "      <td>21.9</td>\n",
       "      <td>21.9</td>\n",
       "      <td>21.9</td>\n",
       "      <td>2021-07-01</td>\n",
       "    </tr>\n",
       "  </tbody>\n",
       "</table>\n",
       "</div>"
      ],
      "text/plain": [
       "   pdvcodigo  empcodigo  procodigo  venqtde  venvlrunit  venvlrtotal  \\\n",
       "0   33680299          3      39392      1.0        19.9         19.9   \n",
       "1   33680312          3      16180      1.0        27.9         27.9   \n",
       "2   33680316          3      27799      1.0        26.9         26.9   \n",
       "3   33680301          3      12417      1.0        21.9         21.9   \n",
       "4   33680404          3      42488      1.0        21.9         21.9   \n",
       "\n",
       "   venvlrreal  venvlrnota vendatainclusao  \n",
       "0        19.9        19.9      2021-07-01  \n",
       "1        27.9        27.9      2021-07-01  \n",
       "2        26.9        26.9      2021-07-01  \n",
       "3        21.9        21.9      2021-07-01  \n",
       "4        21.9        21.9      2021-07-01  "
      ]
     },
     "execution_count": 7,
     "metadata": {},
     "output_type": "execute_result"
    }
   ],
   "source": [
    "pdvitem.head()"
   ]
  },
  {
   "cell_type": "code",
   "execution_count": 78,
   "id": "e565e9ad",
   "metadata": {},
   "outputs": [],
   "source": [
    "## Limpeza dos Dados"
   ]
  },
  {
   "cell_type": "code",
   "execution_count": 79,
   "id": "b12497e4",
   "metadata": {},
   "outputs": [],
   "source": [
    "# verificando valores ausentes"
   ]
  },
  {
   "cell_type": "code",
   "execution_count": 8,
   "id": "53228830",
   "metadata": {},
   "outputs": [
    {
     "data": {
      "text/plain": [
       "pdvcodigo          0\n",
       "empcodigo          0\n",
       "procodigo          0\n",
       "venqtde            0\n",
       "venvlrunit         0\n",
       "venvlrtotal        0\n",
       "venvlrreal         0\n",
       "venvlrnota         0\n",
       "vendatainclusao    0\n",
       "dtype: int64"
      ]
     },
     "execution_count": 8,
     "metadata": {},
     "output_type": "execute_result"
    }
   ],
   "source": [
    "pdvitem.isna().sum()"
   ]
  },
  {
   "cell_type": "code",
   "execution_count": 9,
   "id": "eaba44e0",
   "metadata": {},
   "outputs": [
    {
     "name": "stdout",
     "output_type": "stream",
     "text": [
      "CPU times: total: 9.81 s\n",
      "Wall time: 9.82 s\n"
     ]
    }
   ],
   "source": [
    "%%time\n",
    "agrupando = pd.DataFrame(pdvitem.groupby('pdvcodigo')['procodigo'])"
   ]
  },
  {
   "cell_type": "code",
   "execution_count": 10,
   "id": "a9f628e5",
   "metadata": {},
   "outputs": [
    {
     "data": {
      "text/plain": [
       "(211185, 2)"
      ]
     },
     "execution_count": 10,
     "metadata": {},
     "output_type": "execute_result"
    }
   ],
   "source": [
    "agrupando.shape"
   ]
  },
  {
   "cell_type": "code",
   "execution_count": 11,
   "id": "ca6e0f47",
   "metadata": {},
   "outputs": [
    {
     "data": {
      "text/html": [
       "<div>\n",
       "<style scoped>\n",
       "    .dataframe tbody tr th:only-of-type {\n",
       "        vertical-align: middle;\n",
       "    }\n",
       "\n",
       "    .dataframe tbody tr th {\n",
       "        vertical-align: top;\n",
       "    }\n",
       "\n",
       "    .dataframe thead th {\n",
       "        text-align: right;\n",
       "    }\n",
       "</style>\n",
       "<table border=\"1\" class=\"dataframe\">\n",
       "  <thead>\n",
       "    <tr style=\"text-align: right;\">\n",
       "      <th></th>\n",
       "      <th>0</th>\n",
       "      <th>1</th>\n",
       "    </tr>\n",
       "  </thead>\n",
       "  <tbody>\n",
       "    <tr>\n",
       "      <th>0</th>\n",
       "      <td>775983</td>\n",
       "      <td>48622    40787\n",
       "48623     5402\n",
       "Name: procodigo,...</td>\n",
       "    </tr>\n",
       "    <tr>\n",
       "      <th>1</th>\n",
       "      <td>775984</td>\n",
       "      <td>43    41863\n",
       "44    37424\n",
       "46    40181\n",
       "47    4018...</td>\n",
       "    </tr>\n",
       "    <tr>\n",
       "      <th>2</th>\n",
       "      <td>775985</td>\n",
       "      <td>48    40494\n",
       "Name: procodigo, dtype: int64</td>\n",
       "    </tr>\n",
       "    <tr>\n",
       "      <th>3</th>\n",
       "      <td>775986</td>\n",
       "      <td>52    2720\n",
       "Name: procodigo, dtype: int64</td>\n",
       "    </tr>\n",
       "    <tr>\n",
       "      <th>4</th>\n",
       "      <td>775987</td>\n",
       "      <td>48889    21355\n",
       "48890     2235\n",
       "48891     2496\n",
       "4...</td>\n",
       "    </tr>\n",
       "  </tbody>\n",
       "</table>\n",
       "</div>"
      ],
      "text/plain": [
       "        0                                                  1\n",
       "0  775983  48622    40787\n",
       "48623     5402\n",
       "Name: procodigo,...\n",
       "1  775984  43    41863\n",
       "44    37424\n",
       "46    40181\n",
       "47    4018...\n",
       "2  775985          48    40494\n",
       "Name: procodigo, dtype: int64\n",
       "3  775986           52    2720\n",
       "Name: procodigo, dtype: int64\n",
       "4  775987  48889    21355\n",
       "48890     2235\n",
       "48891     2496\n",
       "4..."
      ]
     },
     "execution_count": 11,
     "metadata": {},
     "output_type": "execute_result"
    }
   ],
   "source": [
    "agrupando.head()"
   ]
  },
  {
   "cell_type": "code",
   "execution_count": 12,
   "id": "c488c646",
   "metadata": {},
   "outputs": [],
   "source": [
    "prod = []"
   ]
  },
  {
   "cell_type": "code",
   "execution_count": 13,
   "id": "03129f75",
   "metadata": {},
   "outputs": [
    {
     "name": "stdout",
     "output_type": "stream",
     "text": [
      "CPU times: total: 24.8 s\n",
      "Wall time: 24.8 s\n"
     ]
    }
   ],
   "source": [
    "%%time\n",
    "for i in range(len(agrupando[0])):\n",
    "    prod.append(list(agrupando.iloc[i][1]))"
   ]
  },
  {
   "cell_type": "code",
   "execution_count": 14,
   "id": "a614d1f0",
   "metadata": {},
   "outputs": [],
   "source": [
    "prod_ = prod"
   ]
  },
  {
   "cell_type": "code",
   "execution_count": 15,
   "id": "59975820",
   "metadata": {},
   "outputs": [],
   "source": [
    "order_ = agrupando[0]"
   ]
  },
  {
   "cell_type": "code",
   "execution_count": 16,
   "id": "b2cd8d20",
   "metadata": {},
   "outputs": [],
   "source": [
    "# Prepara o dataframe\n",
    "transactions = pd.DataFrame({'PDVcodigo' : order_, 'Procodigo' : prod_})"
   ]
  },
  {
   "cell_type": "code",
   "execution_count": 17,
   "id": "cf6ebf0e",
   "metadata": {},
   "outputs": [
    {
     "data": {
      "text/html": [
       "<div>\n",
       "<style scoped>\n",
       "    .dataframe tbody tr th:only-of-type {\n",
       "        vertical-align: middle;\n",
       "    }\n",
       "\n",
       "    .dataframe tbody tr th {\n",
       "        vertical-align: top;\n",
       "    }\n",
       "\n",
       "    .dataframe thead th {\n",
       "        text-align: right;\n",
       "    }\n",
       "</style>\n",
       "<table border=\"1\" class=\"dataframe\">\n",
       "  <thead>\n",
       "    <tr style=\"text-align: right;\">\n",
       "      <th></th>\n",
       "      <th>PDVcodigo</th>\n",
       "      <th>Procodigo</th>\n",
       "    </tr>\n",
       "  </thead>\n",
       "  <tbody>\n",
       "    <tr>\n",
       "      <th>0</th>\n",
       "      <td>775983</td>\n",
       "      <td>[40787, 5402]</td>\n",
       "    </tr>\n",
       "    <tr>\n",
       "      <th>1</th>\n",
       "      <td>775984</td>\n",
       "      <td>[41863, 37424, 40181, 40181]</td>\n",
       "    </tr>\n",
       "    <tr>\n",
       "      <th>2</th>\n",
       "      <td>775985</td>\n",
       "      <td>[40494]</td>\n",
       "    </tr>\n",
       "    <tr>\n",
       "      <th>3</th>\n",
       "      <td>775986</td>\n",
       "      <td>[2720]</td>\n",
       "    </tr>\n",
       "    <tr>\n",
       "      <th>4</th>\n",
       "      <td>775987</td>\n",
       "      <td>[21355, 2235, 2496, 890, 961, 1589, 40451, 415...</td>\n",
       "    </tr>\n",
       "    <tr>\n",
       "      <th>...</th>\n",
       "      <td>...</td>\n",
       "      <td>...</td>\n",
       "    </tr>\n",
       "    <tr>\n",
       "      <th>99995</th>\n",
       "      <td>21486727</td>\n",
       "      <td>[6470]</td>\n",
       "    </tr>\n",
       "    <tr>\n",
       "      <th>99996</th>\n",
       "      <td>21486728</td>\n",
       "      <td>[3294]</td>\n",
       "    </tr>\n",
       "    <tr>\n",
       "      <th>99997</th>\n",
       "      <td>21486729</td>\n",
       "      <td>[30241, 23169, 4826, 3115, 34100, 32969]</td>\n",
       "    </tr>\n",
       "    <tr>\n",
       "      <th>99998</th>\n",
       "      <td>21486730</td>\n",
       "      <td>[26514, 31526, 29140, 32714, 30972, 29059, 290...</td>\n",
       "    </tr>\n",
       "    <tr>\n",
       "      <th>99999</th>\n",
       "      <td>21486731</td>\n",
       "      <td>[3979, 467]</td>\n",
       "    </tr>\n",
       "  </tbody>\n",
       "</table>\n",
       "<p>100000 rows × 2 columns</p>\n",
       "</div>"
      ],
      "text/plain": [
       "       PDVcodigo                                          Procodigo\n",
       "0         775983                                      [40787, 5402]\n",
       "1         775984                       [41863, 37424, 40181, 40181]\n",
       "2         775985                                            [40494]\n",
       "3         775986                                             [2720]\n",
       "4         775987  [21355, 2235, 2496, 890, 961, 1589, 40451, 415...\n",
       "...          ...                                                ...\n",
       "99995   21486727                                             [6470]\n",
       "99996   21486728                                             [3294]\n",
       "99997   21486729           [30241, 23169, 4826, 3115, 34100, 32969]\n",
       "99998   21486730  [26514, 31526, 29140, 32714, 30972, 29059, 290...\n",
       "99999   21486731                                        [3979, 467]\n",
       "\n",
       "[100000 rows x 2 columns]"
      ]
     },
     "execution_count": 17,
     "metadata": {},
     "output_type": "execute_result"
    }
   ],
   "source": [
    "transactions.head(100000)"
   ]
  },
  {
   "cell_type": "code",
   "execution_count": 18,
   "id": "a802ccf4",
   "metadata": {},
   "outputs": [],
   "source": [
    "# Prepara a tupla com as transações\n",
    "movimento_tup = [tuple(row) for row in transactions['Procodigo'].tolist()]"
   ]
  },
  {
   "cell_type": "code",
   "execution_count": 19,
   "id": "5b63d984",
   "metadata": {},
   "outputs": [
    {
     "name": "stdout",
     "output_type": "stream",
     "text": [
      "Tempo de Execução :  0:00:00.108845\n"
     ]
    }
   ],
   "source": [
    "st = datetime.now()\n",
    "itemsets_ap, rules_ap = apriori(movimento_tup[:100000], min_support = 0.01, min_confidence = 0.1)\n",
    "print('Tempo de Execução : ', datetime.now() - st)"
   ]
  },
  {
   "cell_type": "code",
   "execution_count": 20,
   "id": "694ce64e",
   "metadata": {},
   "outputs": [
    {
     "data": {
      "text/plain": [
       "[]"
      ]
     },
     "execution_count": 20,
     "metadata": {},
     "output_type": "execute_result"
    }
   ],
   "source": [
    "rules_ap"
   ]
  },
  {
   "cell_type": "code",
   "execution_count": null,
   "id": "df0fd19d",
   "metadata": {},
   "outputs": [],
   "source": []
  }
 ],
 "metadata": {
  "kernelspec": {
   "display_name": "Python 3 (ipykernel)",
   "language": "python",
   "name": "python3"
  },
  "language_info": {
   "codemirror_mode": {
    "name": "ipython",
    "version": 3
   },
   "file_extension": ".py",
   "mimetype": "text/x-python",
   "name": "python",
   "nbconvert_exporter": "python",
   "pygments_lexer": "ipython3",
   "version": "3.9.12"
  }
 },
 "nbformat": 4,
 "nbformat_minor": 5
}
